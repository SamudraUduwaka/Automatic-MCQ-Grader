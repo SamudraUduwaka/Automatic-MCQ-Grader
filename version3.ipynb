{
 "cells": [
  {
   "cell_type": "code",
   "execution_count": 8,
   "metadata": {},
   "outputs": [
    {
     "data": {
      "text/plain": [
       "True"
      ]
     },
     "execution_count": 8,
     "metadata": {},
     "output_type": "execute_result"
    }
   ],
   "source": [
    "import cv2\n",
    "import numpy as np\n",
    "\n",
    "def preprocess_image(image):\n",
    "    # Convert the image to grayscale\n",
    "    gray = cv2.cvtColor(image, cv2.COLOR_BGR2GRAY)\n",
    "\n",
    "    # Apply Gaussian blur to smooth the image\n",
    "    blurred = cv2.GaussianBlur(gray, (5, 5), 0)\n",
    "\n",
    "    # Apply thresholding to obtain a binary image\n",
    "    _, thresh = cv2.threshold(blurred, 200, 255, cv2.THRESH_BINARY_INV)\n",
    "\n",
    "    return thresh\n",
    "\n",
    "def detect_bubbles(image):\n",
    "    # Find contours in the thresholded image\n",
    "    contours, _ = cv2.findContours(image, cv2.RETR_EXTERNAL, cv2.CHAIN_APPROX_SIMPLE)\n",
    "\n",
    "    bubbles = []\n",
    "    for contour in contours:\n",
    "        area = cv2.contourArea(contour)\n",
    "        if 10 < area < 200:  # Area filter for bubble size\n",
    "            # Get the bounding box of the contour\n",
    "            (x, y, w, h) = cv2.boundingRect(contour)\n",
    "            bubbles.append((x, y, w, h))\n",
    "\n",
    "    return bubbles\n",
    "\n",
    "def sort_bubbles(bubbles):\n",
    "    # Sort by y coordinate first (row-wise sorting)\n",
    "    bubbles = sorted(bubbles, key=lambda b: (b[1], b[0]))\n",
    "\n",
    "    # Group into rows (assume 5 bubbles per question)\n",
    "    rows = []\n",
    "    row = []\n",
    "    for i, bubble in enumerate(bubbles):\n",
    "        row.append(bubble)\n",
    "        # Every 5 bubbles, start a new row\n",
    "        if (i + 1) % 5 == 0:\n",
    "            # Sort each row by x coordinate (left to right)\n",
    "            row = sorted(row, key=lambda b: b[0])\n",
    "            rows.append(row)\n",
    "            row = []\n",
    "\n",
    "    return rows\n",
    "\n",
    "def draw_bubble_numbers(image, rows):\n",
    "    for i, row in enumerate(rows):\n",
    "        for j, (x, y, w, h) in enumerate(row):\n",
    "            # Draw a rectangle around each bubble (optional)\n",
    "            cv2.rectangle(image, (x, y), (x + w, y + h), (0, 255, 0), 2)\n",
    "\n",
    "            # Label each bubble with its question and option number\n",
    "            text = f\"Q{i+1}O{j+1}\"\n",
    "            cv2.putText(image, text, (x, y - 10), cv2.FONT_HERSHEY_SIMPLEX, 0.5, (255, 0, 0), 1)\n",
    "\n",
    "    return image\n",
    "\n",
    "# Load the image\n",
    "image = cv2.imread('warped_answer_sheet.png')\n",
    "\n",
    "# Preprocess the image (grayscale, thresholding)\n",
    "thresh_image = preprocess_image(image)\n",
    "\n",
    "# Detect bubbles\n",
    "bubbles = detect_bubbles(thresh_image)\n",
    "\n",
    "# Sort and group bubbles by question and option\n",
    "sorted_bubbles = sort_bubbles(bubbles)\n",
    "\n",
    "# Draw bubbles with question and option numbers on the image\n",
    "output_image = draw_bubble_numbers(image.copy(), sorted_bubbles)\n",
    "\n",
    "# Display the result\n",
    "cv2.imshow(\"Detected Bubbles by Question\", output_image)\n",
    "cv2.waitKey(0)\n",
    "cv2.destroyAllWindows()\n",
    "\n",
    "# Optionally save the result\n",
    "cv2.imwrite('bubbles_by_question.png', output_image)\n"
   ]
  },
  {
   "cell_type": "code",
   "execution_count": null,
   "metadata": {},
   "outputs": [],
   "source": []
  }
 ],
 "metadata": {
  "kernelspec": {
   "display_name": "Python 3",
   "language": "python",
   "name": "python3"
  },
  "language_info": {
   "codemirror_mode": {
    "name": "ipython",
    "version": 3
   },
   "file_extension": ".py",
   "mimetype": "text/x-python",
   "name": "python",
   "nbconvert_exporter": "python",
   "pygments_lexer": "ipython3",
   "version": "3.11.4"
  }
 },
 "nbformat": 4,
 "nbformat_minor": 2
}
