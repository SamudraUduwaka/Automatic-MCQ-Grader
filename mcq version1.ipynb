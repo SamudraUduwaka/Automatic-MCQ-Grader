{
 "cells": [
  {
   "cell_type": "code",
   "execution_count": 2,
   "metadata": {},
   "outputs": [
    {
     "name": "stderr",
     "output_type": "stream",
     "text": [
      "<>:5: SyntaxWarning: invalid escape sequence '\\A'\n",
      "<>:5: SyntaxWarning: invalid escape sequence '\\A'\n",
      "C:\\Users\\Raveen\\AppData\\Local\\Temp\\ipykernel_21356\\2374708577.py:5: SyntaxWarning: invalid escape sequence '\\A'\n",
      "  img = cv.imread('Data Set\\Answer Scripts\\Answer Scripts\\A\\JJ5.jpg', cv.IMREAD_GRAYSCALE)\n"
     ]
    }
   ],
   "source": [
    "import cv2 as cv\n",
    "import numpy as np \n",
    "import matplotlib.pyplot as plt\n",
    "\n",
    "img = cv.imread('Data Set\\Answer Scripts\\Answer Scripts\\A\\JJ5.jpg', cv.IMREAD_GRAYSCALE)\n",
    "assert img is not None\n",
    "\n",
    "imshow = cv.imshow('Image', img)\n",
    "cv.waitKey(0)\n",
    "cv.destroyAllWindows()\n"
   ]
  }
 ],
 "metadata": {
  "kernelspec": {
   "display_name": "Python 3",
   "language": "python",
   "name": "python3"
  },
  "language_info": {
   "codemirror_mode": {
    "name": "ipython",
    "version": 3
   },
   "file_extension": ".py",
   "mimetype": "text/x-python",
   "name": "python",
   "nbconvert_exporter": "python",
   "pygments_lexer": "ipython3",
   "version": "3.12.1"
  }
 },
 "nbformat": 4,
 "nbformat_minor": 2
}
